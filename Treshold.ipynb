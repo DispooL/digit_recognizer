{
 "cells": [
  {
   "cell_type": "code",
   "execution_count": 1,
   "metadata": {},
   "outputs": [
    {
     "name": "stderr",
     "output_type": "stream",
     "text": [
      "Using TensorFlow backend.\n"
     ]
    }
   ],
   "source": [
    "import cv2\n",
    "import matplotlib.pyplot as plt\n",
    "import pytesseract\n",
    "import numpy as np\n",
    "import keras\n",
    "import numpy as np\n",
    "from imutils import contours\n",
    "from PIL import Image, ImageDraw, ImageFilter\n",
    "import imutils\n",
    "%matplotlib notebook\n",
    "np.set_printoptions(threshold=np.inf)"
   ]
  },
  {
   "cell_type": "code",
   "execution_count": 2,
   "metadata": {},
   "outputs": [],
   "source": [
    "model = keras.models.load_model(\"digit_classifier.h5\")"
   ]
  },
  {
   "cell_type": "code",
   "execution_count": 147,
   "metadata": {},
   "outputs": [],
   "source": [
    "def predict(x,y,w,h,image):  \n",
    "    cropped_image = image[y:y+h, x:x+w]\n",
    "    offset = (5,5)\n",
    "    #z = img[y:y+h, x:x+w]\n",
    "    if not (h >= 40 and w <= 8):\n",
    "        cropped_image = cv2.resize(cropped_image,(20,20))\n",
    "        offset = ((28 - test.shape[0]) // 2, (28 - test.shape[1]) // 2)\n",
    "        \n",
    "    cropped_image = cv2.cvtColor(cropped_image,cv2.COLOR_BGR2GRAY)\n",
    "    ret, threshed_image = cv2.threshold(cropped_image, 200, 255, cv2.THRESH_BINARY_INV)\n",
    "    cropped_image = threshed_image.astype(\"float32\") / 255.0\n",
    "    \n",
    "    background = Image.fromarray(np.zeros((28,28)).astype(np.uint8))\n",
    "    image = Image.fromarray(cropped_image)\n",
    "    background.paste(image,(5,5))\n",
    "    background = np.array(background)\n",
    "    background = np.reshape(background, (1,28,28,1))\n",
    "    \n",
    "    return np.argmax(model.predict(background))"
   ]
  },
  {
   "cell_type": "code",
   "execution_count": 190,
   "metadata": {},
   "outputs": [],
   "source": [
    "img = cv2.imread('z.jpg')"
   ]
  },
  {
   "cell_type": "code",
   "execution_count": 184,
   "metadata": {
    "scrolled": true
   },
   "outputs": [
    {
     "data": {
      "text/plain": [
       "<matplotlib.image.AxesImage at 0x2e64a799888>"
      ]
     },
     "execution_count": 184,
     "metadata": {},
     "output_type": "execute_result"
    },
    {
     "data": {
      "image/png": "[encoded data removed]",
      "text/plain": [
       "<Figure size 432x288 with 1 Axes>"
      ]
     },
     "metadata": {
      "needs_background": "light"
     },
     "output_type": "display_data"
    }
   ],
   "source": [
    "blurred = cv2.cvtColor(img, cv2.COLOR_BGR2GRAY)\n",
    "#blurred = cv2.medianBlur(blurred,7)\n",
    "\n",
    "# threshold image\n",
    "ret, threshed_img = cv2.threshold(blurred, 200, 255, cv2.THRESH_BINARY_INV)\n",
    "# find contours and get the external one\n",
    "\n",
    "edged = imutils.auto_canny(threshed_img)\n",
    "\n",
    "ctrs, hier = cv2.findContours(threshed_img, cv2.RETR_EXTERNAL, cv2.CHAIN_APPROX_SIMPLE)\n",
    "\n",
    "#image, contours, hier = cv2.findContours(threshed_img, cv2.RETR_TREE,\n",
    "#                cv2.CHAIN_APPROX_SIMPLE)\n",
    "\n",
    "# with each contour, draw boundingRect in green\n",
    "# a minAreaRect in red and\n",
    "# a minEnclosingCircle in blue\n",
    "rects = []\n",
    "long_rects = []\n",
    "i = 0\n",
    "#model = keras.models.load_model(\"digits_classifier.h5\")\n",
    "for c in ctrs:\n",
    "    # get the bounding rect\n",
    "    x, y, w, h = cv2.boundingRect(c)\n",
    "    if w >= 5 and w <= 250 and h >= 6 and h <= 150:\n",
    "        # Getting rid of nasty noise\n",
    "        if h <= 11 and w >=65:\n",
    "            continue\n",
    "        long_rects.append([x,y,w,h])\n",
    "for long_rect in long_rects:\n",
    "    # predict(long_rect[0],long_rect[1],long_rect[2],long_rect[3], img)\n",
    "    # draw a green rectangle to visualize the bounding rect\n",
    "    cv2.putText(img, str(\"{}\".format(predict(long_rect[0],long_rect[1],long_rect[2],long_rect[3], img))), (long_rect[0],long_rect[1]), cv2.FONT_HERSHEY_SIMPLEX, 0.5, (0,0,0),1)\n",
    "    cv2.rectangle(img, (long_rect[0], long_rect[1]), (long_rect[0]+long_rect[2], long_rect[1]+long_rect[3]), (0, 255, 0), 1)\n",
    "    i += 1\n",
    "\n",
    "cv2.drawContours(img, ctrs, -1, (255, 255, 0), 1)\n",
    "cv2.imwrite(\"drawn.jpg\",img)\n",
    "plt.imshow(img,cmap='gray')"
   ]
  },
  {
   "cell_type": "code",
   "execution_count": 178,
   "metadata": {},
   "outputs": [],
   "source": [
    "img = cv2.imread('test.jpg')"
   ]
  },
  {
   "cell_type": "code",
   "execution_count": 177,
   "metadata": {},
   "outputs": [
    {
     "data": {
      "text/plain": [
       "[]"
      ]
     },
     "execution_count": 177,
     "metadata": {},
     "output_type": "execute_result"
    }
   ],
   "source": [
    "blurred = cv2.cvtColor(img, cv2.COLOR_BGR2GRAY)\n",
    "#blurred = cv2.medianBlur(blurred,7)\n",
    "\n",
    "# threshold image\n",
    "ret, threshed_img = cv2.threshold(blurred, 200, 255, cv2.THRESH_BINARY_INV)\n",
    "# find contours and get the external one\n",
    "\n",
    "#edged = imutils.auto_canny(threshed_img)\n",
    "\n",
    "ctrz = cv2.findContours(threshed_img, cv2.RETR_EXTERNAL,cv2.CHAIN_APPROX_SIMPLE)\n",
    "cnts = imutils.grab_contours(ctrz)\n",
    "(cnts, boundingBoxes) = contours.sort_contours(cnts, method=\"left-to-right\")\n",
    "\n",
    "boxes = []\n",
    "columns = []\n",
    "\n",
    "for сontour in cnts:\n",
    "    x, y, w, h = cv2.boundingRect(сontour)\n",
    "    if h > 250 and w <= 250:\n",
    "        boxes.append([x,y,w,h])\n",
    "        continue\n",
    "    if w >= 4 and w <= 250 and h >= 5 and h <= 150:\n",
    "        # Getting rid of nasty noise\n",
    "        if h * w < 60:\n",
    "            continue\n",
    "        #boxes.append([x,y,w,h])\n",
    "\n",
    "for i, long_rect in enumerate(boxes):\n",
    "    cv2.putText(img, str(\"{}\".format(long_rect[0])), (long_rect[0],long_rect[1]), cv2.FONT_HERSHEY_SIMPLEX, 0.5, (0,0,0),1)\n",
    "    cv2.rectangle(img, (long_rect[0], long_rect[1]), (long_rect[0]+long_rect[2], long_rect[1]+long_rect[3]), (0, 255, 0), 1)\n",
    "\n",
    "cv2.drawContours(img, cnts, -1, (255, 255, 0), 1)\n",
    "cv2.imwrite(\"drawn.jpg\",img)\n",
    "columns"
   ]
  },
  {
   "cell_type": "code",
   "execution_count": 21,
   "metadata": {},
   "outputs": [],
   "source": [
    "img = cv2.imread('test.jpg')"
   ]
  },
  {
   "cell_type": "code",
   "execution_count": null,
   "metadata": {},
   "outputs": [],
   "source": [
    "import eli5\n",
    "predictions = model.predict(test)\n",
    "top_indices = np.argsort(predictions)[0, ::-1][:5]\n",
    "top_indices"
   ]
  },
  {
   "cell_type": "code",
   "execution_count": null,
   "metadata": {},
   "outputs": [],
   "source": [
    "plt.imshow(eli5.show_prediction(model, test))"
   ]
  },
  {
   "cell_type": "code",
   "execution_count": 194,
   "metadata": {},
   "outputs": [
    {
     "name": "stdout",
     "output_type": "stream",
     "text": [
      "432\n"
     ]
    }
   ],
   "source": [
    "x,y,w,h = long_rects[12]\n",
    "print(w*h)\n",
    "test = img[y:y+h, x:x+w]\n",
    "#z = img[y:y+h, x:x+w]\n",
    "#test = cv2.resize(test,(24,24))\n",
    "test = cv2.cvtColor(test,cv2.COLOR_BGR2GRAY)\n",
    "ret, test = cv2.threshold(test, 200, 255, cv2.THRESH_BINARY_INV)\n",
    "test = test.astype(\"float32\") / 255.0\n",
    "# reshaped = np.reshape(test,(1,28,28,1))\n",
    "# model.predict(reshaped)\n",
    "#offset = ((28 - test.shape[0]) // 2, (28 - test.shape[1]) // 2)"
   ]
  },
  {
   "cell_type": "code",
   "execution_count": 195,
   "metadata": {},
   "outputs": [
    {
     "data": {
      "text/plain": [
       "<matplotlib.image.AxesImage at 0x2e64a956448>"
      ]
     },
     "execution_count": 195,
     "metadata": {},
     "output_type": "execute_result"
    },
    {
     "data": {
      "image/png": "[encoded data removed]",
      "text/plain": [
       "<Figure size 432x288 with 1 Axes>"
      ]
     },
     "metadata": {
      "needs_background": "light"
     },
     "output_type": "display_data"
    }
   ],
   "source": [
    "plt.imshow(test,cmap='gray')"
   ]
  },
  {
   "cell_type": "code",
   "execution_count": 198,
   "metadata": {},
   "outputs": [
    {
     "data": {
      "text/plain": [
       "<matplotlib.image.AxesImage at 0x2e64aa03f48>"
      ]
     },
     "execution_count": 198,
     "metadata": {},
     "output_type": "execute_result"
    },
    {
     "data": {
      "image/png": "[encoded data removed]",
      "text/plain": [
       "<Figure size 432x288 with 1 Axes>"
      ]
     },
     "metadata": {
      "needs_background": "light"
     },
     "output_type": "display_data"
    }
   ],
   "source": [
    "background = Image.fromarray(np.zeros((28,28)).astype(np.uint8))\n",
    "image = Image.fromarray(test)\n",
    "background.paste(image,(5,5))\n",
    "plt.imshow(background,cmap='gray')"
   ]
  },
  {
   "cell_type": "code",
   "execution_count": 199,
   "metadata": {},
   "outputs": [
    {
     "data": {
      "text/plain": [
       "1"
      ]
     },
     "execution_count": 199,
     "metadata": {},
     "output_type": "execute_result"
    }
   ],
   "source": [
    "image_to_be_predicted = np.array(background)\n",
    "image_to_be_predicted = np.reshape(image_to_be_predicted, (1,28,28,1))\n",
    "np.argmax(model.predict(image_to_be_predicted))"
   ]
  },
  {
   "cell_type": "code",
   "execution_count": null,
   "metadata": {},
   "outputs": [],
   "source": []
  }
 ],
 "metadata": {
  "kernelspec": {
   "display_name": "Python 3",
   "language": "python",
   "name": "python3"
  },
  "language_info": {
   "codemirror_mode": {
    "name": "ipython",
    "version": 3
   },
   "file_extension": ".py",
   "mimetype": "text/x-python",
   "name": "python",
   "nbconvert_exporter": "python",
   "pygments_lexer": "ipython3",
   "version": "3.7.4"
  }
 },
 "nbformat": 4,
 "nbformat_minor": 2
}
